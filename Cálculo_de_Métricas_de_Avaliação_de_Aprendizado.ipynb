{
  "nbformat": 4,
  "nbformat_minor": 0,
  "metadata": {
    "colab": {
      "provenance": [],
      "toc_visible": true,
      "authorship_tag": "ABX9TyOennRiDfT9LZC3BfmVEKfC",
      "include_colab_link": true
    },
    "kernelspec": {
      "name": "python3",
      "display_name": "Python 3"
    },
    "language_info": {
      "name": "python"
    }
  },
  "cells": [
    {
      "cell_type": "markdown",
      "metadata": {
        "id": "view-in-github",
        "colab_type": "text"
      },
      "source": [
        "<a href=\"https://colab.research.google.com/github/mlzzi/Calculo-de-Metricas-de-Avaliacao-de-Aprendizado/blob/main/C%C3%A1lculo_de_M%C3%A9tricas_de_Avalia%C3%A7%C3%A3o_de_Aprendizado.ipynb\" target=\"_parent\"><img src=\"https://colab.research.google.com/assets/colab-badge.svg\" alt=\"Open In Colab\"/></a>"
      ]
    },
    {
      "cell_type": "code",
      "execution_count": 48,
      "metadata": {
        "id": "mE7EwofnjoT5"
      },
      "outputs": [],
      "source": [
        "from tensorflow.keras import datasets, layers, models\n",
        "import matplotlib.pyplot as plt\n",
        "import tensorflow as tf\n",
        "\n",
        "import numpy as np\n",
        "\n",
        "import seaborn as sns\n",
        "\n",
        "import pandas as pd"
      ]
    },
    {
      "cell_type": "code",
      "source": [
        "tf.__version__"
      ],
      "metadata": {
        "colab": {
          "base_uri": "https://localhost:8080/",
          "height": 35
        },
        "id": "4SH_kP9HkTYV",
        "outputId": "575c973c-aaae-4f6c-aedc-cc0f9969c523"
      },
      "execution_count": 49,
      "outputs": [
        {
          "output_type": "execute_result",
          "data": {
            "text/plain": [
              "'2.17.1'"
            ],
            "application/vnd.google.colaboratory.intrinsic+json": {
              "type": "string"
            }
          },
          "metadata": {},
          "execution_count": 49
        }
      ]
    },
    {
      "cell_type": "code",
      "source": [
        "%load_ext tensorboard"
      ],
      "metadata": {
        "colab": {
          "base_uri": "https://localhost:8080/"
        },
        "id": "DJSFG-8wkcP9",
        "outputId": "df90d176-1ed3-424b-9fe8-f759a61b33d3"
      },
      "execution_count": 50,
      "outputs": [
        {
          "output_type": "stream",
          "name": "stdout",
          "text": [
            "The tensorboard extension is already loaded. To reload it, use:\n",
            "  %reload_ext tensorboard\n"
          ]
        }
      ]
    },
    {
      "cell_type": "code",
      "source": [
        "logdir='log'"
      ],
      "metadata": {
        "id": "OumYGrDnkgdG"
      },
      "execution_count": 51,
      "outputs": []
    },
    {
      "cell_type": "code",
      "source": [
        "(train_images, train_labels), (test_images, test_labels) = datasets.mnist.load_data()\n",
        "\n",
        "train_images = train_images.reshape((60000, 28, 28, 1))\n",
        "test_images = test_images.reshape((10000, 28, 28, 1))\n",
        "\n",
        "train_images, test_images = train_images / 255.0, test_images / 255.0\n",
        "\n",
        "classes=[0,1,2,3,4,5,6,7,8,9]"
      ],
      "metadata": {
        "id": "W5Qe_9dFksQh"
      },
      "execution_count": 52,
      "outputs": []
    },
    {
      "cell_type": "code",
      "source": [
        "model = models.Sequential()\n",
        "model.add(layers.Conv2D(32, (3, 3), activation='relu', input_shape=(28, 28, 1)))\n",
        "model.add(layers.MaxPooling2D((2, 2)))\n",
        "model.add(layers.Conv2D(64, (3, 3), activation='relu'))\n",
        "model.add(layers.MaxPooling2D((2, 2)))\n",
        "model.add(layers.Conv2D(64, (3, 3), activation='relu'))\n",
        "\n",
        "model.add(layers.Flatten())\n",
        "model.add(layers.Dense(64, activation='relu'))\n",
        "model.add(layers.Dense(10, activation='softmax'))"
      ],
      "metadata": {
        "colab": {
          "base_uri": "https://localhost:8080/"
        },
        "id": "Jnftoxe3lEbI",
        "outputId": "be21c5c0-9062-43f0-fbcd-774a1ba8c625"
      },
      "execution_count": 53,
      "outputs": [
        {
          "output_type": "stream",
          "name": "stderr",
          "text": [
            "/usr/local/lib/python3.10/dist-packages/keras/src/layers/convolutional/base_conv.py:107: UserWarning: Do not pass an `input_shape`/`input_dim` argument to a layer. When using Sequential models, prefer using an `Input(shape)` object as the first layer in the model instead.\n",
            "  super().__init__(activity_regularizer=activity_regularizer, **kwargs)\n"
          ]
        }
      ]
    },
    {
      "cell_type": "code",
      "source": [
        "tensorboard_callback = tf.keras.callbacks.TensorBoard(logdir, histogram_freq=1)"
      ],
      "metadata": {
        "id": "8vPlwqQHldTY"
      },
      "execution_count": 54,
      "outputs": []
    },
    {
      "cell_type": "code",
      "source": [
        "model.compile(optimizer='adam',\n",
        "              loss='sparse_categorical_crossentropy',\n",
        "              metrics=['accuracy'])\n",
        "\n",
        "model.fit(x=train_images,\n",
        "          y=train_labels,\n",
        "          epochs=5,\n",
        "          validation_data=(test_images, test_labels))"
      ],
      "metadata": {
        "colab": {
          "base_uri": "https://localhost:8080/"
        },
        "id": "9A62CmRpllb6",
        "outputId": "766d3cfd-c483-4896-f7dc-a6f541cc0b54"
      },
      "execution_count": 55,
      "outputs": [
        {
          "output_type": "stream",
          "name": "stdout",
          "text": [
            "Epoch 1/5\n",
            "\u001b[1m1875/1875\u001b[0m \u001b[32m━━━━━━━━━━━━━━━━━━━━\u001b[0m\u001b[37m\u001b[0m \u001b[1m57s\u001b[0m 29ms/step - accuracy: 0.8951 - loss: 0.3378 - val_accuracy: 0.9860 - val_loss: 0.0445\n",
            "Epoch 2/5\n",
            "\u001b[1m1875/1875\u001b[0m \u001b[32m━━━━━━━━━━━━━━━━━━━━\u001b[0m\u001b[37m\u001b[0m \u001b[1m87s\u001b[0m 32ms/step - accuracy: 0.9844 - loss: 0.0495 - val_accuracy: 0.9896 - val_loss: 0.0311\n",
            "Epoch 3/5\n",
            "\u001b[1m1875/1875\u001b[0m \u001b[32m━━━━━━━━━━━━━━━━━━━━\u001b[0m\u001b[37m\u001b[0m \u001b[1m79s\u001b[0m 30ms/step - accuracy: 0.9890 - loss: 0.0330 - val_accuracy: 0.9883 - val_loss: 0.0348\n",
            "Epoch 4/5\n",
            "\u001b[1m1875/1875\u001b[0m \u001b[32m━━━━━━━━━━━━━━━━━━━━\u001b[0m\u001b[37m\u001b[0m \u001b[1m92s\u001b[0m 36ms/step - accuracy: 0.9923 - loss: 0.0251 - val_accuracy: 0.9898 - val_loss: 0.0350\n",
            "Epoch 5/5\n",
            "\u001b[1m1875/1875\u001b[0m \u001b[32m━━━━━━━━━━━━━━━━━━━━\u001b[0m\u001b[37m\u001b[0m \u001b[1m67s\u001b[0m 36ms/step - accuracy: 0.9927 - loss: 0.0214 - val_accuracy: 0.9919 - val_loss: 0.0264\n"
          ]
        },
        {
          "output_type": "execute_result",
          "data": {
            "text/plain": [
              "<keras.src.callbacks.history.History at 0x7d02b2d206a0>"
            ]
          },
          "metadata": {},
          "execution_count": 55
        }
      ]
    },
    {
      "cell_type": "code",
      "source": [
        "y_true=test_labels\n",
        "y_pred = np.argmax(model.predict(test_images), axis=-1)"
      ],
      "metadata": {
        "colab": {
          "base_uri": "https://localhost:8080/"
        },
        "id": "UFN_2TuBoLDz",
        "outputId": "3af19cfa-ae90-4916-d911-0f8b6b08d865"
      },
      "execution_count": 56,
      "outputs": [
        {
          "output_type": "stream",
          "name": "stdout",
          "text": [
            "\u001b[1m313/313\u001b[0m \u001b[32m━━━━━━━━━━━━━━━━━━━━\u001b[0m\u001b[37m\u001b[0m \u001b[1m5s\u001b[0m 15ms/step\n"
          ]
        }
      ]
    },
    {
      "cell_type": "code",
      "source": [
        "classes=[0,1,2,3,4,5,6,7,8,9]"
      ],
      "metadata": {
        "id": "2Wa454E4omo_"
      },
      "execution_count": 57,
      "outputs": []
    },
    {
      "cell_type": "code",
      "source": [
        "con_mat = tf.math.confusion_matrix(labels=y_true,predictions=y_pred).numpy()\n",
        "con_mat_norm = np.around(con_mat.astype('float') / con_mat.sum(axis=1)[:, np.newaxis], decimals=2)\n",
        "\n",
        "con_mat_df = pd.DataFrame(con_mat_norm,\n",
        "                     index = classes,\n",
        "                     columns = classes)\n",
        "\n",
        "figure = plt.figure(figsize=(8, 8))\n",
        "sns.heatmap(con_mat_df, annot=True,cmap=plt.cm.Blues)\n",
        "plt.tight_layout()\n",
        "plt.ylabel('True label')\n",
        "plt.xlabel('Predicted label')\n",
        "plt.show()"
      ],
      "metadata": {
        "colab": {
          "base_uri": "https://localhost:8080/",
          "height": 826
        },
        "id": "t0c1tG2-o-Q_",
        "outputId": "09181575-e747-431e-8e28-0eb645f40932"
      },
      "execution_count": 58,
      "outputs": [
        {
          "output_type": "display_data",
          "data": {
            "text/plain": [
              "<Figure size 800x800 with 2 Axes>"
            ],
            "image/png": "[encoded data removed]"
          },
          "metadata": {}
        }
      ]
    },
    {
      "cell_type": "code",
      "source": [
        "# Inicializando as listas para armazenar os valores\n",
        "vp = []\n",
        "fn = []\n",
        "fp = []\n",
        "vn = []"
      ],
      "metadata": {
        "id": "8kWcKxLkydKI"
      },
      "execution_count": 59,
      "outputs": []
    },
    {
      "cell_type": "code",
      "source": [
        "# Calculando VN, VP, FN e FP para cada classe\n",
        "for i in range(len(classes)):\n",
        "    # Verdadeiro Positivo (VP)\n",
        "    vp_i = con_mat[i][i]\n",
        "\n",
        "    # Falso Negativo (FN)\n",
        "    fn_i = np.sum(con_mat[i, :]) - vp_i\n",
        "\n",
        "    # Falso Positivo (FP)\n",
        "    fp_i = np.sum(con_mat[:, i]) - vp_i\n",
        "\n",
        "    # Verdadeiro Negativo (VN)\n",
        "    vn_i = con_mat.sum() - (fn_i + fp_i + vp_i)\n",
        "\n",
        "    # Adicionando os valores nas listas\n",
        "    vp.append(vp_i)\n",
        "    fn.append(fn_i)\n",
        "    fp.append(fp_i)\n",
        "    vn.append(vn_i)"
      ],
      "metadata": {
        "id": "IZ5ExI_Ayexv"
      },
      "execution_count": 60,
      "outputs": []
    },
    {
      "cell_type": "code",
      "source": [
        "# Mostrando os resultados\n",
        "for i in range(len(classes)):\n",
        "    print(f\"Classe {classes[i]}:\")\n",
        "    print(f\"VP: {vp[i]}, FN: {fn[i]}, FP: {fp[i]}, VN: {vn[i]}\")"
      ],
      "metadata": {
        "colab": {
          "base_uri": "https://localhost:8080/"
        },
        "id": "xnO0jMnvyili",
        "outputId": "f254aff5-ab07-4bba-aed7-511a95ccb96d"
      },
      "execution_count": 61,
      "outputs": [
        {
          "output_type": "stream",
          "name": "stdout",
          "text": [
            "Classe 0:\n",
            "VP: 978, FN: 2, FP: 9, VN: 9011\n",
            "Classe 1:\n",
            "VP: 1135, FN: 0, FP: 17, VN: 8848\n",
            "Classe 2:\n",
            "VP: 1021, FN: 11, FP: 5, VN: 8963\n",
            "Classe 3:\n",
            "VP: 1004, FN: 6, FP: 11, VN: 8979\n",
            "Classe 4:\n",
            "VP: 977, FN: 5, FP: 4, VN: 9014\n",
            "Classe 5:\n",
            "VP: 878, FN: 14, FP: 6, VN: 9102\n",
            "Classe 6:\n",
            "VP: 949, FN: 9, FP: 3, VN: 9039\n",
            "Classe 7:\n",
            "VP: 1018, FN: 10, FP: 8, VN: 8964\n",
            "Classe 8:\n",
            "VP: 964, FN: 10, FP: 5, VN: 9021\n",
            "Classe 9:\n",
            "VP: 995, FN: 14, FP: 13, VN: 8978\n"
          ]
        }
      ]
    },
    {
      "cell_type": "code",
      "source": [
        "from sklearn.metrics import accuracy_score, precision_score, recall_score, f1_score, roc_curve, auc\n",
        "import matplotlib.pyplot as plt\n",
        "from sklearn.preprocessing import label_binarize\n",
        "\n",
        "# Calculando Sensibilidade, Acurácia e F1-Score para cada classe\n",
        "accuracy = accuracy_score(y_true, y_pred)\n",
        "sensibilidade = recall_score(y_true, y_pred, average=None)\n",
        "precisao = precision_score(y_true, y_pred, average=None)\n",
        "f1 = f1_score(y_true, y_pred, average=None)\n",
        "\n",
        "print(f\"Acurácia: {accuracy:.4f}\")\n",
        "\n",
        "for i in range(len(classes)):\n",
        "    print(f\"Classe {classes[i]}:\")\n",
        "    print(f\"Sensibilidade: {sensibilidade[i]:.4f}\")\n",
        "    print(f\"Precisão: {precisao[i]:.4f}\")\n",
        "    print(f\"F1-Score: {f1[i]:.4f}\")"
      ],
      "metadata": {
        "colab": {
          "base_uri": "https://localhost:8080/"
        },
        "id": "iAyVR0ssym_e",
        "outputId": "a014343a-6857-4172-9bcd-bebf4cd37c94"
      },
      "execution_count": 62,
      "outputs": [
        {
          "output_type": "stream",
          "name": "stdout",
          "text": [
            "Acurácia: 0.9919\n",
            "Classe 0:\n",
            "Sensibilidade: 0.9980\n",
            "Precisão: 0.9909\n",
            "F1-Score: 0.9944\n",
            "Classe 1:\n",
            "Sensibilidade: 1.0000\n",
            "Precisão: 0.9852\n",
            "F1-Score: 0.9926\n",
            "Classe 2:\n",
            "Sensibilidade: 0.9893\n",
            "Precisão: 0.9951\n",
            "F1-Score: 0.9922\n",
            "Classe 3:\n",
            "Sensibilidade: 0.9941\n",
            "Precisão: 0.9892\n",
            "F1-Score: 0.9916\n",
            "Classe 4:\n",
            "Sensibilidade: 0.9949\n",
            "Precisão: 0.9959\n",
            "F1-Score: 0.9954\n",
            "Classe 5:\n",
            "Sensibilidade: 0.9843\n",
            "Precisão: 0.9932\n",
            "F1-Score: 0.9887\n",
            "Classe 6:\n",
            "Sensibilidade: 0.9906\n",
            "Precisão: 0.9968\n",
            "F1-Score: 0.9937\n",
            "Classe 7:\n",
            "Sensibilidade: 0.9903\n",
            "Precisão: 0.9922\n",
            "F1-Score: 0.9912\n",
            "Classe 8:\n",
            "Sensibilidade: 0.9897\n",
            "Precisão: 0.9948\n",
            "F1-Score: 0.9923\n",
            "Classe 9:\n",
            "Sensibilidade: 0.9861\n",
            "Precisão: 0.9871\n",
            "F1-Score: 0.9866\n"
          ]
        }
      ]
    },
    {
      "cell_type": "code",
      "source": [
        "# Gerando a curva ROC\n",
        "# Para a curva ROC, devemos binarizar as etiquetas (classe 0 ou 1 para cada classe)\n",
        "y_true_bin = label_binarize(y_true, classes=classes)\n",
        "y_pred_prob = model.predict(test_images)  # Probabilidades preditas para cada classe"
      ],
      "metadata": {
        "colab": {
          "base_uri": "https://localhost:8080/"
        },
        "id": "32JnnI6zzEDu",
        "outputId": "5383e16c-381a-4f16-b3f5-6024a628d7d0"
      },
      "execution_count": 63,
      "outputs": [
        {
          "output_type": "stream",
          "name": "stdout",
          "text": [
            "\u001b[1m313/313\u001b[0m \u001b[32m━━━━━━━━━━━━━━━━━━━━\u001b[0m\u001b[37m\u001b[0m \u001b[1m3s\u001b[0m 10ms/step\n"
          ]
        }
      ]
    },
    {
      "cell_type": "code",
      "source": [
        "# Calculando a curva ROC para cada classe\n",
        "fpr, tpr, thresholds = roc_curve(y_true_bin.ravel(), y_pred_prob.ravel())\n",
        "roc_auc = auc(fpr, tpr)"
      ],
      "metadata": {
        "id": "kNuiDZAZzHqG"
      },
      "execution_count": 64,
      "outputs": []
    },
    {
      "cell_type": "code",
      "source": [
        "# Plotando a curva ROC\n",
        "plt.figure(figsize=(8, 6))\n",
        "plt.plot(fpr, tpr, color='darkorange', lw=2, label=f'ROC curve (AUC = {roc_auc:.2f})')\n",
        "plt.plot([0, 1], [0, 1], color='navy', lw=2, linestyle='--')\n",
        "plt.xlim([0.0, 1.0])\n",
        "plt.ylim([0.0, 1.05])\n",
        "plt.xlabel('False Positive Rate')\n",
        "plt.ylabel('True Positive Rate')\n",
        "plt.title('Receiver Operating Characteristic')\n",
        "plt.legend(loc='lower right')\n",
        "plt.show()"
      ],
      "metadata": {
        "colab": {
          "base_uri": "https://localhost:8080/",
          "height": 564
        },
        "id": "D6rc7qUczJkD",
        "outputId": "b59ac592-c8b9-4aa0-f099-d1d63e3e9bdb"
      },
      "execution_count": 65,
      "outputs": [
        {
          "output_type": "display_data",
          "data": {
            "text/plain": [
              "<Figure size 800x600 with 1 Axes>"
            ],
            "image/png": "[encoded data removed]"
          },
          "metadata": {}
        }
      ]
    }
  ]
}